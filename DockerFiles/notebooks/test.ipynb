{
 "cells": [
  {
   "cell_type": "markdown",
   "metadata": {},
   "source": [
    "# Writing Data to Iceberg Table using Spark"
   ]
  },
  {
   "cell_type": "code",
   "execution_count": null,
   "metadata": {},
   "outputs": [],
   "source": []
  },
  {
   "cell_type": "code",
   "execution_count": null,
   "metadata": {},
   "outputs": [],
   "source": [
    "import pyspark\n",
    "from pyspark.sql import SparkSession\n",
    "from pyspark.sql.functions import col\n",
    "import os\n",
    "from utils.utils import configure_spark, get_db_tables\n",
    "# Define the path for the Iceberg warehouse\n",
    "iceberg_warehouse_path = \"iceberg_warehouse\"  # Change this to your desired path\n",
    "\n",
    "\n",
    "\n",
    "\n",
    "spark = configure_spark('minio','main')\n",
    "\n",
    "\n",
    "local_table_name = \"spark_catalog.default.employees\"\n",
    "df = spark.read.format(\"iceberg\").table(local_table_name)\n",
    "\n",
    "\n",
    "\n",
    "table_name = \"nessie.employees\"\n",
    "\n",
    "schema = ', '.join([f'{field.name} {field.dataType.simpleString()}' for field in df.schema.fields])\n",
    "\n",
    "def create_iceberg_table_if_not_exists(spark, table_name, df, partition_column):\n",
    "    \"\"\"Create an Iceberg table if it doesn't exist.\"\"\"\n",
    "    schema = ', '.join([f'`{field.name}` {field.dataType.simpleString()}' for field in df.schema.fields])\n",
    "    create_table_query = f\"\"\"\n",
    "        CREATE TABLE IF NOT EXISTS {table_name} (\n",
    "            {schema}\n",
    "        )\n",
    "        USING iceberg\n",
    "        PARTITIONED BY ({partition_column})\n",
    "    \"\"\"\n",
    "    spark.sql(create_table_query)\n",
    "\n",
    "# Write the DataFrame to the existing Iceberg table partitioned by the 'DATE' column\n",
    "create_iceberg_table_if_not_exists(spark, table_name, df, 'companyName')\n",
    "df.write.format(\"iceberg\").mode(\"overwrite\") \\\n",
    "    .save(table_name)\n",
    "\n",
    "print(f\"Data has been written to Iceberg table at {iceberg_warehouse_path}/default/{table_name}\")\n",
    "\n",
    "# Stop the Spark session\n",
    "spark.stop()"
   ]
  },
  {
   "cell_type": "markdown",
   "metadata": {},
   "source": [
    "# Processing Data with Spark and Iceberg\n",
    "\n",
    "This script demonstrates how to process data using Spark and Iceberg. It includes functions to create Iceberg tables, query data from a Parquet file, and write data to both local and Nessie-managed Iceberg tables.\n",
    "\n",
    "## Steps\n",
    "\n",
    "1. **Configure Spark**: Set up a Spark session using a custom configuration function `configure_spark`.\n",
    "2. **Create Iceberg Table**: Define a function to create an Iceberg table if it doesn't already exist.\n",
    "3. **Query and Write to Local Table**: Define a function to read data from a Parquet file and write it to a local Iceberg table.\n",
    "4. **Read Local and Write to Nessie**: Define a function to read data from a local Iceberg table and write it to a Nessie-managed Iceberg table.\n",
    "5. **Process Data**: Define a function to process data by querying from a Parquet file and writing to both local and Nessie Iceberg tables.\n",
    "6. **Execute Processing**: Set up paths and table names, then execute the data processing function.\n"
   ]
  },
  {
   "cell_type": "code",
   "execution_count": null,
   "metadata": {},
   "outputs": [],
   "source": [
    "import pyspark\n",
    "from pyspark.sql import SparkSession\n",
    "from pyspark.sql.functions import col\n",
    "import os\n",
    "from utils.utils import configure_spark\n",
    "\n",
    "def create_iceberg_table_if_not_exists(spark, table_name, df, partition_column):\n",
    "    \"\"\"Create an Iceberg table if it doesn't exist.\"\"\"\n",
    "    schema = ', '.join([f'`{field.name}` {field.dataType.simpleString()}' for field in df.schema.fields])\n",
    "    create_table_query = f\"\"\"\n",
    "        CREATE TABLE IF NOT EXISTS {table_name} (\n",
    "            {schema}\n",
    "        )\n",
    "        USING iceberg\n",
    "        PARTITIONED BY ({partition_column})\n",
    "    \"\"\"\n",
    "    spark.sql(create_table_query)\n",
    "\n",
    "def query_and_write_to_local_table(spark, parquet_path, local_table_name, partition_column):\n",
    "    \"\"\"Query data from Nessie table for a given date and write it to the local Iceberg table.\"\"\"\n",
    "    df = spark.read.parquet(parquet_path)\n",
    "    create_iceberg_table_if_not_exists(spark, local_table_name, df, partition_column)\n",
    "    df.writeTo(local_table_name).append()\n",
    "\n",
    "def read_local_and_write_to_nessie(spark, local_table_name, nessie_table_name, partition_column):\n",
    "    \"\"\"Read data from local Iceberg table and write it to the Nessie-managed Iceberg table.\"\"\"\n",
    "    local_df = spark.read.format(\"iceberg\").table(local_table_name)\n",
    "    create_iceberg_table_if_not_exists(spark, nessie_table_name, local_df, partition_column)\n",
    "    local_df.writeTo(nessie_table_name).append()\n",
    "\n",
    "def process_data(spark, parquet_path, local_table_name,nessie_table_name,partition_column):\n",
    "    \"\"\"Process a list of dates to query from Nessie and write to both local and Nessie Iceberg tables.\"\"\"\n",
    "  \n",
    "    query_and_write_to_local_table(spark, parquet_path, local_table_name,partition_column)\n",
    "    #read_local_and_write_to_nessie(spark, local_table_name, nessie_table_name, partition_column)\n",
    "\n",
    "\n",
    "\n",
    "# Define the path for the Iceberg warehouse\n",
    "iceberg_warehouse_path = \"iceberg_warehouse\"\n",
    "os.makedirs(iceberg_warehouse_path, exist_ok=True)\n",
    "# Initialize Spark session with the configured SparkConf\n",
    "#spark = SparkSession.builder.config(conf=conf).getOrCreate()\n",
    "spark = configure_spark('minio','main')\n",
    "\n",
    "# Define the Nessie and local table names\n",
    "parquet_path = 'scripts/python_go_backups/employees_go.parquet'\n",
    "nessie_table_name = \"nessie.employees\"\n",
    "local_table_name = \"spark_catalog.default.employees\"\n",
    "partition_column = 'companyName'\n",
    "\n",
    "process_data(spark, parquet_path, local_table_name,nessie_table_name, partition_column)\n"
   ]
  },
  {
   "cell_type": "markdown",
   "metadata": {},
   "source": [
    "# Querying Employee Count by Company using Spark and Iceberg\n",
    "\n",
    "This script demonstrates how to configure a Spark session, read an Iceberg table into a Spark DataFrame, register it as a temporary view, and perform a query to count employees grouped by company name.\n"
   ]
  },
  {
   "cell_type": "code",
   "execution_count": null,
   "metadata": {},
   "outputs": [],
   "source": [
    "import pandas as pd\n",
    "from utils.utils import configure_spark\n",
    "\n",
    "local_table_name = \"spark_catalog.default.employees\"\n",
    "spark = configure_spark('minio','main')\n",
    "\n",
    "# Read the Iceberg table into a DataFrame\n",
    "local_df = spark.read.format(\"iceberg\").table(local_table_name)\n",
    "\n",
    "# Register the DataFrame as a temporary view\n",
    "local_df.createOrReplaceTempView(\"employees_view\")\n",
    "\n",
    "# Perform the query using Spark SQL\n",
    "result_df = spark.sql(\"\"\"\n",
    "    SELECT companyName, COUNT(*) as employee_count\n",
    "    FROM employees_view\n",
    "    GROUP BY companyName\n",
    "\"\"\")\n",
    "\n",
    "# Show the results\n",
    "result_df.toPandas()"
   ]
  },
  {
   "cell_type": "markdown",
   "metadata": {},
   "source": [
    "## DuckDB and Iceberg Integration\n",
    "\n",
    "This script demonstrates how to connect to a DuckDB database, install and load the Iceberg extension, and query an Iceberg table to save the results into a DuckDB table.\n",
    "\n",
    "## Steps\n",
    "\n",
    "1. **Connect to DuckDB**: Establish a connection to a DuckDB database file named `iceberg_data.duckdb`.\n",
    "2. **Install and Load Iceberg Extension**: Install and load the Iceberg extension to enable querying Iceberg tables.\n",
    "3. **Query Iceberg Table**: Execute a query to scan an Iceberg table located at `iceberg_warehouse/default/employees` and save the results into a DuckDB table named `employees`."
   ]
  },
  {
   "cell_type": "code",
   "execution_count": null,
   "metadata": {},
   "outputs": [],
   "source": [
    "import duckdb\n",
    "\n",
    "# Connect to DuckDB\n",
    "con = duckdb.connect('iceberg_data.duckdb')\n",
    "\n",
    "# Install and load the Iceberg extension\n",
    "con.execute(\"INSTALL iceberg;\")\n",
    "con.execute(\"LOAD iceberg;\")\n",
    "\n",
    "# Query the Iceberg table and save the results to a DuckDB table\n",
    "con.execute(\"\"\"\n",
    "    CREATE TABLE employees AS\n",
    "    SELECT *\n",
    "    FROM iceberg_scan('iceberg_warehouse/default/employees', allow_moved_paths = true);\n",
    "\"\"\")"
   ]
  },
  {
   "cell_type": "markdown",
   "metadata": {},
   "source": [
    "# Querying Employee Count by Company\n",
    "\n",
    "This script demonstrates how to connect to a DuckDB database, execute a query to get the count of employees grouped by company name, and convert the result into a pandas DataFrame.\n",
    "\n",
    "## Steps\n",
    "\n",
    "1. **Connect to DuckDB**: Establish a connection to a DuckDB database file named `iceberg_data.duckdb`.\n",
    "2. **Execute Query**: Run a SQL query to count the number of employees grouped by `companyName` and order the results by `employee_count` in descending order.\n",
    "3. **Convert to DataFrame**: Convert the query result into a pandas DataFrame for further analysis or manipulation.\n"
   ]
  },
  {
   "cell_type": "code",
   "execution_count": null,
   "metadata": {},
   "outputs": [],
   "source": [
    "import duckdb\n",
    "import pandas as pd\n",
    "\n",
    "# Connect to DuckDB\n",
    "con = duckdb.connect('iceberg_data.duckdb')\n",
    "\n",
    "# Query to get the count of employees by companyName and convert it to a pandas DataFrame\n",
    "df = con.execute(\"\"\"\n",
    "    SELECT companyName, COUNT(*) as employee_count\n",
    "    FROM employees\n",
    "    GROUP BY companyName ORDER BY employee_count DESC;\n",
    "\"\"\").fetchdf()\n",
    "\n",
    "df"
   ]
  },
  {
   "cell_type": "code",
   "execution_count": null,
   "metadata": {},
   "outputs": [],
   "source": [
    "%pip install requests"
   ]
  },
  {
   "cell_type": "code",
   "execution_count": 3,
   "metadata": {},
   "outputs": [
    {
     "name": "stdout",
     "output_type": "stream",
     "text": [
      "200\n",
      "{'message': 'Companies, employees, and departments created successfully', 'companies': [{'name': 'Walker LLC', 'industry': 'repurpose out-of-the-box vortals', 'employees': 3531, 'revenue': 157168626, 'location': 'North Kevin'}, {'name': 'Gilbert-Hanna', 'industry': 'evolve virtual functionalities', 'employees': 1380, 'revenue': 451544950, 'location': 'Tinaview'}, {'name': 'Thompson-Davis', 'industry': 'benchmark scalable experiences', 'employees': 7631, 'revenue': 401256914, 'location': 'New Donna'}, {'name': 'Dorsey Group', 'industry': 'expedite collaborative convergence', 'employees': 6082, 'revenue': 601388749, 'location': 'Jimenezshire'}, {'name': 'Thomas-Blankenship', 'industry': 'generate interactive infrastructures', 'employees': 5446, 'revenue': 690069536, 'location': 'Jennifertown'}, {'name': 'Ward, Gould and Rosario', 'industry': 'scale global web services', 'employees': 2866, 'revenue': 350485331, 'location': 'Jonesberg'}, {'name': 'Farrell PLC', 'industry': 'deliver efficient methodologies', 'employees': 1009, 'revenue': 438525224, 'location': 'West Amy'}, {'name': 'Bell, Gonzalez and Estrada', 'industry': 'redefine next-generation content', 'employees': 6904, 'revenue': 286588989, 'location': 'Camachoberg'}, {'name': 'Obrien, Reyes and Wilson', 'industry': 'seize clicks-and-mortar partnerships', 'employees': 1410, 'revenue': 461983235, 'location': 'Ramirezview'}, {'name': 'Flores and Sons', 'industry': 'strategize bricks-and-clicks channels', 'employees': 8682, 'revenue': 529863706, 'location': 'Benjaminport'}, {'name': 'Bailey-Wood', 'industry': 'utilize proactive deliverables', 'employees': 7205, 'revenue': 137932651, 'location': 'Mariamouth'}, {'name': 'Brown Inc', 'industry': 'enhance virtual partnerships', 'employees': 291, 'revenue': 75860320, 'location': 'South Alyssa'}, {'name': 'Dominguez, Chavez and Collins', 'industry': 'disintermediate extensible e-tailers', 'employees': 1647, 'revenue': 330884441, 'location': 'New Jodi'}, {'name': 'Brown LLC', 'industry': 'synthesize transparent applications', 'employees': 5110, 'revenue': 306908036, 'location': 'Hoganport'}, {'name': 'Brown-Hicks', 'industry': 'envisioneer synergistic models', 'employees': 1211, 'revenue': 398032910, 'location': 'Donnaville'}, {'name': 'Johnson Inc', 'industry': 'streamline synergistic networks', 'employees': 1593, 'revenue': 308504516, 'location': 'Paulview'}, {'name': 'Moreno, Howard and Smith', 'industry': 'integrate visionary communities', 'employees': 7870, 'revenue': 208742616, 'location': 'North Johaven'}, {'name': 'Shields LLC', 'industry': 'utilize scalable e-tailers', 'employees': 5980, 'revenue': 943719823, 'location': 'Stephenburgh'}, {'name': 'Jefferson Group', 'industry': 'synergize extensible vortals', 'employees': 6923, 'revenue': 107022412, 'location': 'Taylorland'}, {'name': 'Baker-Hull', 'industry': 'synergize 24/7 niches', 'employees': 3909, 'revenue': 859909010, 'location': 'Lake Christopherside'}, {'name': 'Ortiz, Dougherty and Mcguire', 'industry': 'exploit compelling channels', 'employees': 4626, 'revenue': 974984387, 'location': 'Amyhaven'}, {'name': 'Sheppard PLC', 'industry': 'implement distributed bandwidth', 'employees': 2541, 'revenue': 79558880, 'location': 'North Randy'}, {'name': 'Howard, Anderson and Meyer', 'industry': 'morph rich vortals', 'employees': 6400, 'revenue': 815974407, 'location': 'North Carla'}, {'name': 'Wilson-Lutz', 'industry': 'syndicate collaborative action-items', 'employees': 1780, 'revenue': 821365583, 'location': 'New Eric'}, {'name': 'Barton Ltd', 'industry': 'incubate back-end platforms', 'employees': 3366, 'revenue': 948817367, 'location': 'Garrettmouth'}, {'name': 'Wilson-Rivera', 'industry': 'expedite dot-com e-commerce', 'employees': 3065, 'revenue': 289047468, 'location': 'Ellisport'}, {'name': 'Fisher Inc', 'industry': 'disintermediate customized info-mediaries', 'employees': 3268, 'revenue': 766941967, 'location': 'Monicafort'}, {'name': 'Elliott, Randolph and Estrada', 'industry': 'extend 24/365 info-mediaries', 'employees': 1914, 'revenue': 827052277, 'location': 'Lake Jerry'}, {'name': 'Bailey-Munoz', 'industry': 'enable intuitive architectures', 'employees': 4618, 'revenue': 975062882, 'location': 'Mollyton'}, {'name': 'Hurley and Sons', 'industry': 'iterate open-source portals', 'employees': 2436, 'revenue': 83327585, 'location': 'New Kendra'}, {'name': 'Graham-Rodgers', 'industry': 'productize one-to-one e-tailers', 'employees': 6979, 'revenue': 851204725, 'location': 'South Hollyfort'}, {'name': 'Ramirez, Scott and Lee', 'industry': 'scale customized relationships', 'employees': 8521, 'revenue': 454022768, 'location': 'East Alexander'}, {'name': 'Castillo-Sparks', 'industry': 'engage efficient e-business', 'employees': 3311, 'revenue': 158668603, 'location': 'Garciamouth'}, {'name': 'Webster and Sons', 'industry': 'deploy plug-and-play platforms', 'employees': 3710, 'revenue': 218107550, 'location': 'South Jonathan'}, {'name': 'Edwards Group', 'industry': 'enhance value-added networks', 'employees': 7618, 'revenue': 281776075, 'location': 'West Debra'}, {'name': 'Phillips LLC', 'industry': 'unleash extensible synergies', 'employees': 5637, 'revenue': 782402683, 'location': 'South Kevin'}, {'name': 'Anderson, Morris and Terry', 'industry': 'exploit seamless supply-chains', 'employees': 3124, 'revenue': 474849268, 'location': 'Jonesfurt'}, {'name': 'Payne LLC', 'industry': 'incentivize turn-key technologies', 'employees': 1864, 'revenue': 517166926, 'location': 'North Kevinshire'}, {'name': 'West-Shields', 'industry': 'grow ubiquitous channels', 'employees': 1921, 'revenue': 548351003, 'location': 'Whiteview'}, {'name': 'Miller-Rice', 'industry': 'envisioneer compelling e-commerce', 'employees': 3646, 'revenue': 808061353, 'location': 'Charleneton'}, {'name': 'Stevenson, Jenkins and Casey', 'industry': 'scale plug-and-play partnerships', 'employees': 4434, 'revenue': 96897032, 'location': 'Sherrystad'}, {'name': 'Santos, Evans and Glover', 'industry': 'incentivize transparent synergies', 'employees': 8985, 'revenue': 283453329, 'location': 'North Williamberg'}, {'name': 'Meyer, Johnson and Jackson', 'industry': 'visualize out-of-the-box schemas', 'employees': 8770, 'revenue': 916811670, 'location': 'Port Benjamin'}, {'name': 'Mendoza, Wallace and Cox', 'industry': 'deliver 24/365 ROI', 'employees': 6845, 'revenue': 401497735, 'location': 'Wallacebury'}, {'name': 'Jordan PLC', 'industry': 'exploit plug-and-play partnerships', 'employees': 6087, 'revenue': 235142682, 'location': 'Port Justintown'}, {'name': 'May, Payne and Rodriguez', 'industry': 'matrix plug-and-play e-markets', 'employees': 6307, 'revenue': 672155348, 'location': 'Lake Barbaramouth'}, {'name': 'Chen-Rodriguez', 'industry': 'utilize e-business niches', 'employees': 2724, 'revenue': 963546077, 'location': 'South Benjamin'}, {'name': 'Merritt and Sons', 'industry': 'architect frictionless vortals', 'employees': 6260, 'revenue': 440821162, 'location': 'Clarkton'}, {'name': 'Henson, Anderson and Wright', 'industry': 'morph e-business applications', 'employees': 2133, 'revenue': 474184117, 'location': 'Sullivanhaven'}, {'name': 'Goodwin, Stout and Park', 'industry': 'aggregate clicks-and-mortar e-commerce', 'employees': 1595, 'revenue': 813644262, 'location': 'West Christyville'}, {'name': 'Garcia-Harris', 'industry': 'implement killer users', 'employees': 937, 'revenue': 58340522, 'location': 'New Patrickfort'}, {'name': 'Thomas, Walter and Jones', 'industry': 'integrate intuitive partnerships', 'employees': 9307, 'revenue': 164870469, 'location': 'Michaelmouth'}, {'name': 'Hunter, Reed and Jackson', 'industry': 'reinvent wireless relationships', 'employees': 9857, 'revenue': 196603045, 'location': 'Andersenton'}, {'name': 'Mccoy Inc', 'industry': 'mesh B2B relationships', 'employees': 392, 'revenue': 473220208, 'location': 'West Josephville'}, {'name': 'Mitchell and Sons', 'industry': 'seize clicks-and-mortar web services', 'employees': 2146, 'revenue': 449027784, 'location': 'New Dennis'}, {'name': 'Holland, Jackson and Caldwell', 'industry': 'iterate granular users', 'employees': 1341, 'revenue': 202308232, 'location': 'Joshuachester'}, {'name': 'Sullivan LLC', 'industry': 'deliver distributed e-markets', 'employees': 8639, 'revenue': 168867707, 'location': 'Stephaniechester'}, {'name': 'Mack-Flores', 'industry': 're-contextualize clicks-and-mortar mindshare', 'employees': 5510, 'revenue': 470092859, 'location': 'Jameston'}, {'name': 'Garrett-Rush', 'industry': 'drive 24/365 e-commerce', 'employees': 6724, 'revenue': 325042043, 'location': 'Singhborough'}, {'name': 'Collins-Scott', 'industry': 'revolutionize 24/7 e-markets', 'employees': 7452, 'revenue': 456253319, 'location': 'Vincentstad'}, {'name': 'Bradford-Hamilton', 'industry': 'productize strategic info-mediaries', 'employees': 2258, 'revenue': 749669616, 'location': 'Lake Kevin'}, {'name': 'Harris, Bruce and Wilson', 'industry': 'implement customized convergence', 'employees': 4858, 'revenue': 463424903, 'location': 'Chelseabury'}, {'name': 'Le Ltd', 'industry': 'disintermediate frictionless models', 'employees': 702, 'revenue': 431471392, 'location': 'South Kaylamouth'}, {'name': 'Obrien-Vazquez', 'industry': 'strategize world-class infrastructures', 'employees': 6790, 'revenue': 643043711, 'location': 'Kimberlystad'}, {'name': 'Adams-Burke', 'industry': 'embrace sticky models', 'employees': 9815, 'revenue': 750360051, 'location': 'East Jennifer'}, {'name': 'Collier Ltd', 'industry': 'transform leading-edge methodologies', 'employees': 3287, 'revenue': 775896136, 'location': 'Rachelberg'}, {'name': 'Norton, Gilbert and Murphy', 'industry': 'monetize ubiquitous systems', 'employees': 132, 'revenue': 458779917, 'location': 'Youngtown'}, {'name': 'Campbell, Wilson and Weber', 'industry': 'engineer revolutionary e-business', 'employees': 7968, 'revenue': 542836420, 'location': 'East Triciaville'}, {'name': 'Phillips-Brandt', 'industry': 'streamline granular e-commerce', 'employees': 4613, 'revenue': 112511734, 'location': 'Lake Brandon'}, {'name': 'Bryant, Gordon and Roach', 'industry': 'evolve virtual models', 'employees': 6327, 'revenue': 294987131, 'location': 'Lake Paul'}, {'name': 'Jones, Jenkins and Adams', 'industry': 'synergize clicks-and-mortar portals', 'employees': 5886, 'revenue': 61161655, 'location': 'Olsonville'}, {'name': 'Bruce, Schroeder and Kelley', 'industry': 'innovate next-generation users', 'employees': 6130, 'revenue': 627231733, 'location': 'East Sarah'}, {'name': 'Hodges Group', 'industry': 'aggregate enterprise functionalities', 'employees': 1550, 'revenue': 881093840, 'location': 'Tommyport'}, {'name': 'Dean Group', 'industry': 'target vertical mindshare', 'employees': 8151, 'revenue': 422011296, 'location': 'Meyersside'}, {'name': 'Sanchez, Burke and Johnston', 'industry': 'seize impactful architectures', 'employees': 9537, 'revenue': 744763989, 'location': 'Javiermouth'}, {'name': 'Lawson LLC', 'industry': 'drive magnetic e-business', 'employees': 4633, 'revenue': 515869185, 'location': 'Port Davidberg'}, {'name': 'Pittman, Williams and Rivers', 'industry': 'whiteboard robust portals', 'employees': 6295, 'revenue': 164264558, 'location': 'Clarkland'}, {'name': 'Mckay-Snyder', 'industry': 'disintermediate sticky web-readiness', 'employees': 3923, 'revenue': 865485513, 'location': 'North Douglas'}, {'name': 'Martin LLC', 'industry': 'e-enable ubiquitous architectures', 'employees': 6439, 'revenue': 452280509, 'location': 'North Jeffrey'}, {'name': 'Hughes and Sons', 'industry': 'grow virtual synergies', 'employees': 88, 'revenue': 727174407, 'location': 'South Brandonstad'}, {'name': 'Hudson Ltd', 'industry': 'syndicate revolutionary vortals', 'employees': 2220, 'revenue': 302168698, 'location': 'East Elizabethport'}, {'name': 'Hampton LLC', 'industry': 'repurpose integrated architectures', 'employees': 6540, 'revenue': 459233545, 'location': 'Lewiston'}, {'name': 'Fowler, French and Harding', 'industry': 'reinvent turn-key deliverables', 'employees': 6874, 'revenue': 952275149, 'location': 'North Mitchellberg'}, {'name': 'Moore, Martinez and Montgomery', 'industry': 'matrix cutting-edge relationships', 'employees': 9071, 'revenue': 924307793, 'location': 'West Megan'}, {'name': 'Simpson-Hobbs', 'industry': 'scale cross-media web-readiness', 'employees': 1159, 'revenue': 965305339, 'location': 'North Zacharybury'}, {'name': 'Blake and Sons', 'industry': 'implement integrated solutions', 'employees': 5291, 'revenue': 617997829, 'location': 'East Saraville'}, {'name': 'Horne Inc', 'industry': 'exploit front-end functionalities', 'employees': 5703, 'revenue': 732328083, 'location': 'East Maryport'}, {'name': 'Craig Inc', 'industry': 'disintermediate transparent e-commerce', 'employees': 5255, 'revenue': 193049454, 'location': 'East Teresamouth'}, {'name': 'Webster, Murphy and Allen', 'industry': 'enhance 24/365 vortals', 'employees': 831, 'revenue': 646464945, 'location': 'Lake Ginahaven'}, {'name': 'Rice, Allen and Patton', 'industry': 'strategize magnetic e-commerce', 'employees': 7673, 'revenue': 225087283, 'location': 'Nathanstad'}, {'name': 'Dorsey Inc', 'industry': 'enable compelling users', 'employees': 689, 'revenue': 741639931, 'location': 'South Sandra'}, {'name': 'Sexton, Aguilar and Crawford', 'industry': 'brand user-centric users', 'employees': 2998, 'revenue': 384961151, 'location': 'Jamesport'}, {'name': 'Meyer, Stephens and Foster', 'industry': 'harness transparent applications', 'employees': 5222, 'revenue': 392263261, 'location': 'East Ronald'}, {'name': 'Moyer, Smith and Hunt', 'industry': 'brand front-end convergence', 'employees': 8963, 'revenue': 550732234, 'location': 'Mitchellshire'}, {'name': 'Gomez-Christensen', 'industry': 'aggregate revolutionary users', 'employees': 8697, 'revenue': 777359942, 'location': 'Mendozashire'}, {'name': 'Russell, Saunders and Sanchez', 'industry': 'integrate leading-edge architectures', 'employees': 2845, 'revenue': 660153210, 'location': 'South Elizabeth'}, {'name': 'Bryant-Ross', 'industry': 'repurpose distributed technologies', 'employees': 7736, 'revenue': 17944644, 'location': 'Blairfort'}, {'name': 'Smith Inc', 'industry': 'mesh vertical metrics', 'employees': 9392, 'revenue': 705251670, 'location': 'Port Yolandaborough'}, {'name': 'Foster, Waller and Robinson', 'industry': 'enhance viral e-services', 'employees': 691, 'revenue': 987615201, 'location': 'Robertfort'}, {'name': 'Diaz-Schultz', 'industry': 'grow 24/365 schemas', 'employees': 6966, 'revenue': 637390687, 'location': 'Matthewshire'}]}\n"
     ]
    }
   ],
   "source": [
    "import requests\n",
    "1_241_512\n",
    "url = \"http://127.0.0.1:8000/create_companies\"\n",
    "\n",
    "# Define the payload\n",
    "payload = {\n",
    "    \"request\": {\n",
    "        \"size\": 100\n",
    "    },\n",
    "    \"s3_details\": {\n",
    "        \"bucket_name\": \"upload\",\n",
    "        \"database_name\": \"bronze-data\"\n",
    "    }\n",
    "}\n",
    "\n",
    "# Send the POST request\n",
    "response = requests.post(url, json=payload)\n",
    "\n",
    "# Print the response\n",
    "print(response.status_code)\n",
    "print(response.json())"
   ]
  },
  {
   "cell_type": "code",
   "execution_count": null,
   "metadata": {},
   "outputs": [],
   "source": []
  }
 ],
 "metadata": {
  "kernelspec": {
   "display_name": "s3_write",
   "language": "python",
   "name": "python3"
  },
  "language_info": {
   "codemirror_mode": {
    "name": "ipython",
    "version": 3
   },
   "file_extension": ".py",
   "mimetype": "text/x-python",
   "name": "python",
   "nbconvert_exporter": "python",
   "pygments_lexer": "ipython3",
   "version": "3.11.10"
  }
 },
 "nbformat": 4,
 "nbformat_minor": 2
}
